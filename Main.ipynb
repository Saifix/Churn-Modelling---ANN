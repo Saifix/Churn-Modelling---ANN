{
  "cells": [
    {
      "cell_type": "markdown",
      "metadata": {
        "colab_type": "text",
        "id": "lP6JLo1tGNBg"
      },
      "source": [
        "# Artificial Neural Network"
      ]
    },
    {
      "cell_type": "markdown",
      "metadata": {
        "colab_type": "text",
        "id": "gWZyYmS_UE_L"
      },
      "source": [
        "### Importing the libraries"
      ]
    },
    {
      "cell_type": "code",
      "execution_count": 41,
      "metadata": {
        "colab": {},
        "colab_type": "code",
        "id": "MxkJoQBkUIHC"
      },
      "outputs": [],
      "source": [
        "import numpy as np\n",
        "import pandas as pd\n",
        "import tensorflow as tf"
      ]
    },
    {
      "cell_type": "code",
      "execution_count": 42,
      "metadata": {
        "colab": {
          "base_uri": "https://localhost:8080/",
          "height": 34
        },
        "colab_type": "code",
        "id": "ZaTwK7ojXr2F",
        "outputId": "0b27a96d-d11a-43e8-ab4b-87c1f01896fe"
      },
      "outputs": [
        {
          "data": {
            "text/plain": [
              "'2.10.1'"
            ]
          },
          "execution_count": 42,
          "metadata": {},
          "output_type": "execute_result"
        }
      ],
      "source": [
        "tf.__version__"
      ]
    },
    {
      "cell_type": "markdown",
      "metadata": {
        "colab_type": "text",
        "id": "1E0Q3aoKUCRX"
      },
      "source": [
        "## Part 1 - Data Preprocessing"
      ]
    },
    {
      "cell_type": "markdown",
      "metadata": {
        "colab_type": "text",
        "id": "cKWAkFVGUU0Z"
      },
      "source": [
        "### Importing the dataset"
      ]
    },
    {
      "cell_type": "code",
      "execution_count": 43,
      "metadata": {
        "colab": {},
        "colab_type": "code",
        "id": "MXUkhkMfU4wq"
      },
      "outputs": [],
      "source": [
        "dataset = pd.read_csv('Churn_Modelling.csv')\n",
        "X = dataset.iloc[:, 3:-1].values\n",
        "y = dataset.iloc[:, -1].values"
      ]
    },
    {
      "cell_type": "code",
      "execution_count": 44,
      "metadata": {
        "colab": {
          "base_uri": "https://localhost:8080/",
          "height": 137
        },
        "colab_type": "code",
        "id": "VYP9cQTWbzuI",
        "outputId": "797e7a64-9bac-436a-8c9c-94437e5e7587"
      },
      "outputs": [
        {
          "name": "stdout",
          "output_type": "stream",
          "text": [
            "[[619 'France' 'Female' ... 1 1 101348.88]\n",
            " [608 'Spain' 'Female' ... 0 1 112542.58]\n",
            " [502 'France' 'Female' ... 1 0 113931.57]\n",
            " ...\n",
            " [709 'France' 'Female' ... 0 1 42085.58]\n",
            " [772 'Germany' 'Male' ... 1 0 92888.52]\n",
            " [792 'France' 'Female' ... 1 0 38190.78]]\n"
          ]
        }
      ],
      "source": [
        "print(X)"
      ]
    },
    {
      "cell_type": "code",
      "execution_count": 45,
      "metadata": {
        "colab": {
          "base_uri": "https://localhost:8080/",
          "height": 34
        },
        "colab_type": "code",
        "id": "38vKGE6Nb2RR",
        "outputId": "a815e42a-e0dd-4cb5-ab97-b17ead98fbc3"
      },
      "outputs": [
        {
          "name": "stdout",
          "output_type": "stream",
          "text": [
            "[1 0 1 ... 1 1 0]\n"
          ]
        }
      ],
      "source": [
        "print(y)"
      ]
    },
    {
      "cell_type": "markdown",
      "metadata": {
        "colab_type": "text",
        "id": "N6bQ0UgSU-NJ"
      },
      "source": [
        "### Encoding categorical data"
      ]
    },
    {
      "cell_type": "markdown",
      "metadata": {
        "colab_type": "text",
        "id": "le5MJreAbW52"
      },
      "source": [
        "Label Encoding the \"Gender\" column"
      ]
    },
    {
      "cell_type": "code",
      "execution_count": 46,
      "metadata": {
        "colab": {},
        "colab_type": "code",
        "id": "PxVKWXxLbczC"
      },
      "outputs": [],
      "source": [
        "from sklearn.preprocessing import LabelEncoder\n",
        "le = LabelEncoder()\n",
        "X[:, 2] = le.fit_transform(X[:, 2])"
      ]
    },
    {
      "cell_type": "code",
      "execution_count": 47,
      "metadata": {
        "colab": {
          "base_uri": "https://localhost:8080/",
          "height": 137
        },
        "colab_type": "code",
        "id": "-M1KboxFb6OO",
        "outputId": "e2b8c7e8-0cbc-4cdf-f4eb-7f0853a00b88"
      },
      "outputs": [
        {
          "name": "stdout",
          "output_type": "stream",
          "text": [
            "[[619 'France' 0 ... 1 1 101348.88]\n",
            " [608 'Spain' 0 ... 0 1 112542.58]\n",
            " [502 'France' 0 ... 1 0 113931.57]\n",
            " ...\n",
            " [709 'France' 0 ... 0 1 42085.58]\n",
            " [772 'Germany' 1 ... 1 0 92888.52]\n",
            " [792 'France' 0 ... 1 0 38190.78]]\n"
          ]
        }
      ],
      "source": [
        "print(X)"
      ]
    },
    {
      "cell_type": "markdown",
      "metadata": {
        "colab_type": "text",
        "id": "CUxGZezpbMcb"
      },
      "source": [
        "One Hot Encoding the \"Geography\" column"
      ]
    },
    {
      "cell_type": "code",
      "execution_count": 48,
      "metadata": {
        "colab": {},
        "colab_type": "code",
        "id": "AMXC8-KMVirw"
      },
      "outputs": [],
      "source": [
        "from sklearn.compose import ColumnTransformer\n",
        "from sklearn.preprocessing import OneHotEncoder\n",
        "ct = ColumnTransformer(transformers=[('encoder', OneHotEncoder(), [1])], remainder='passthrough')\n",
        "X = np.array(ct.fit_transform(X))"
      ]
    },
    {
      "cell_type": "code",
      "execution_count": 49,
      "metadata": {
        "colab": {
          "base_uri": "https://localhost:8080/",
          "height": 137
        },
        "colab_type": "code",
        "id": "ZcxwEon-b8nV",
        "outputId": "23a98af4-5e33-4b26-c27b-f06e3c5d2baf"
      },
      "outputs": [
        {
          "name": "stdout",
          "output_type": "stream",
          "text": [
            "[[1.0 0.0 0.0 ... 1 1 101348.88]\n",
            " [0.0 0.0 1.0 ... 0 1 112542.58]\n",
            " [1.0 0.0 0.0 ... 1 0 113931.57]\n",
            " ...\n",
            " [1.0 0.0 0.0 ... 0 1 42085.58]\n",
            " [0.0 1.0 0.0 ... 1 0 92888.52]\n",
            " [1.0 0.0 0.0 ... 1 0 38190.78]]\n"
          ]
        }
      ],
      "source": [
        "print(X)"
      ]
    },
    {
      "cell_type": "markdown",
      "metadata": {
        "colab_type": "text",
        "id": "vHol938cW8zd"
      },
      "source": [
        "### Splitting the dataset into the Training set and Test set"
      ]
    },
    {
      "cell_type": "code",
      "execution_count": 50,
      "metadata": {
        "colab": {},
        "colab_type": "code",
        "id": "Z-TDt0Y_XEfc"
      },
      "outputs": [],
      "source": [
        "from sklearn.model_selection import train_test_split\n",
        "X_train, X_test, y_train, y_test = train_test_split(X, y, test_size = 0.2, random_state = 0)"
      ]
    },
    {
      "cell_type": "markdown",
      "metadata": {
        "colab_type": "text",
        "id": "RE_FcHyfV3TQ"
      },
      "source": [
        "### Feature Scaling"
      ]
    },
    {
      "cell_type": "code",
      "execution_count": 51,
      "metadata": {
        "colab": {},
        "colab_type": "code",
        "id": "ViCrE00rV8Sk"
      },
      "outputs": [],
      "source": [
        "from sklearn.preprocessing import StandardScaler\n",
        "sc = StandardScaler()\n",
        "X_train = sc.fit_transform(X_train)\n",
        "X_test = sc.transform(X_test)"
      ]
    },
    {
      "cell_type": "markdown",
      "metadata": {
        "colab_type": "text",
        "id": "-zfEzkRVXIwF"
      },
      "source": [
        "## Part 2 - Building the ANN"
      ]
    },
    {
      "cell_type": "markdown",
      "metadata": {
        "colab_type": "text",
        "id": "KvdeScabXtlB"
      },
      "source": [
        "### Initializing the ANN"
      ]
    },
    {
      "cell_type": "code",
      "execution_count": 52,
      "metadata": {
        "colab": {},
        "colab_type": "code",
        "id": "3dtrScHxXQox"
      },
      "outputs": [],
      "source": [
        "ann = tf.keras.models.Sequential()"
      ]
    },
    {
      "cell_type": "markdown",
      "metadata": {
        "colab_type": "text",
        "id": "rP6urV6SX7kS"
      },
      "source": [
        "### Adding the input layer and the first hidden layer"
      ]
    },
    {
      "cell_type": "code",
      "execution_count": 53,
      "metadata": {
        "colab": {},
        "colab_type": "code",
        "id": "bppGycBXYCQr"
      },
      "outputs": [],
      "source": [
        "ann.add(tf.keras.layers.Dense(units=6, activation='relu'))"
      ]
    },
    {
      "cell_type": "markdown",
      "metadata": {
        "colab_type": "text",
        "id": "BELWAc_8YJze"
      },
      "source": [
        "### Adding the second hidden layer"
      ]
    },
    {
      "cell_type": "code",
      "execution_count": 54,
      "metadata": {
        "colab": {},
        "colab_type": "code",
        "id": "JneR0u0sYRTd"
      },
      "outputs": [],
      "source": [
        "ann.add(tf.keras.layers.Dense(units=6, activation='relu'))\n",
        "ann.add(tf.keras.layers.Dense(units=6, activation='relu'))\n",
        "ann.add(tf.keras.layers.Dense(units=6, activation='relu'))\n",
        "ann.add(tf.keras.layers.Dense(units=6, activation='relu'))\n",
        "ann.add(tf.keras.layers.Dense(units=6, activation='relu'))\n",
        "ann.add(tf.keras.layers.Dense(units=6, activation='relu'))\n"
      ]
    },
    {
      "cell_type": "markdown",
      "metadata": {
        "colab_type": "text",
        "id": "OyNEe6RXYcU4"
      },
      "source": [
        "### Adding the output layer"
      ]
    },
    {
      "cell_type": "code",
      "execution_count": 55,
      "metadata": {
        "colab": {},
        "colab_type": "code",
        "id": "Cn3x41RBYfvY"
      },
      "outputs": [],
      "source": [
        "ann.add(tf.keras.layers.Dense(units=1, activation='sigmoid'))"
      ]
    },
    {
      "cell_type": "markdown",
      "metadata": {
        "colab_type": "text",
        "id": "JT4u2S1_Y4WG"
      },
      "source": [
        "## Part 3 - Training the ANN"
      ]
    },
    {
      "cell_type": "markdown",
      "metadata": {
        "colab_type": "text",
        "id": "8GWlJChhY_ZI"
      },
      "source": [
        "### Compiling the ANN"
      ]
    },
    {
      "cell_type": "code",
      "execution_count": 56,
      "metadata": {
        "colab": {},
        "colab_type": "code",
        "id": "fG3RrwDXZEaS"
      },
      "outputs": [],
      "source": [
        "ann.compile(optimizer = 'adam', loss = 'binary_crossentropy', metrics = ['accuracy'])"
      ]
    },
    {
      "cell_type": "markdown",
      "metadata": {
        "colab_type": "text",
        "id": "0QR_G5u7ZLSM"
      },
      "source": [
        "### Training the ANN on the Training set"
      ]
    },
    {
      "cell_type": "code",
      "execution_count": 57,
      "metadata": {
        "colab": {
          "base_uri": "https://localhost:8080/",
          "height": 1000
        },
        "colab_type": "code",
        "id": "nHZ-LKv_ZRb3",
        "outputId": "718cc4b0-b5aa-40f0-9b20-d3d31730a531"
      },
      "outputs": [
        {
          "name": "stdout",
          "output_type": "stream",
          "text": [
            "Epoch 1/100\n",
            "  1/250 [..............................] - ETA: 2:28 - loss: 0.6942 - accuracy: 0.2812"
          ]
        },
        {
          "name": "stdout",
          "output_type": "stream",
          "text": [
            "250/250 [==============================] - 2s 4ms/step - loss: 0.5485 - accuracy: 0.7899\n",
            "Epoch 2/100\n",
            "250/250 [==============================] - 1s 4ms/step - loss: 0.4661 - accuracy: 0.7960\n",
            "Epoch 3/100\n",
            "250/250 [==============================] - 1s 4ms/step - loss: 0.4498 - accuracy: 0.7960\n",
            "Epoch 4/100\n",
            "250/250 [==============================] - 1s 3ms/step - loss: 0.4422 - accuracy: 0.7960\n",
            "Epoch 5/100\n",
            "250/250 [==============================] - 1s 3ms/step - loss: 0.4392 - accuracy: 0.7960\n",
            "Epoch 6/100\n",
            "250/250 [==============================] - 1s 3ms/step - loss: 0.4360 - accuracy: 0.7960\n",
            "Epoch 7/100\n",
            "250/250 [==============================] - 1s 3ms/step - loss: 0.4340 - accuracy: 0.7960\n",
            "Epoch 8/100\n",
            "250/250 [==============================] - 1s 3ms/step - loss: 0.4320 - accuracy: 0.7960\n",
            "Epoch 9/100\n",
            "250/250 [==============================] - 1s 3ms/step - loss: 0.4307 - accuracy: 0.7960\n",
            "Epoch 10/100\n",
            "250/250 [==============================] - 1s 3ms/step - loss: 0.4292 - accuracy: 0.7960\n",
            "Epoch 11/100\n",
            "250/250 [==============================] - 1s 3ms/step - loss: 0.4280 - accuracy: 0.7960\n",
            "Epoch 12/100\n",
            "250/250 [==============================] - 1s 3ms/step - loss: 0.4272 - accuracy: 0.7960\n",
            "Epoch 13/100\n",
            "250/250 [==============================] - 1s 4ms/step - loss: 0.4259 - accuracy: 0.7960\n",
            "Epoch 14/100\n",
            "250/250 [==============================] - 1s 3ms/step - loss: 0.4248 - accuracy: 0.7962\n",
            "Epoch 15/100\n",
            "250/250 [==============================] - 1s 3ms/step - loss: 0.4226 - accuracy: 0.8080\n",
            "Epoch 16/100\n",
            "250/250 [==============================] - 1s 3ms/step - loss: 0.4205 - accuracy: 0.8152\n",
            "Epoch 17/100\n",
            "250/250 [==============================] - 1s 3ms/step - loss: 0.4176 - accuracy: 0.8209\n",
            "Epoch 18/100\n",
            "250/250 [==============================] - 1s 3ms/step - loss: 0.4134 - accuracy: 0.8276\n",
            "Epoch 19/100\n",
            "250/250 [==============================] - 1s 3ms/step - loss: 0.4092 - accuracy: 0.8314\n",
            "Epoch 20/100\n",
            "250/250 [==============================] - 1s 3ms/step - loss: 0.4048 - accuracy: 0.8346\n",
            "Epoch 21/100\n",
            "250/250 [==============================] - 1s 3ms/step - loss: 0.3996 - accuracy: 0.8394\n",
            "Epoch 22/100\n",
            "250/250 [==============================] - 1s 3ms/step - loss: 0.3914 - accuracy: 0.8428\n",
            "Epoch 23/100\n",
            "250/250 [==============================] - 1s 3ms/step - loss: 0.3852 - accuracy: 0.8476\n",
            "Epoch 24/100\n",
            "250/250 [==============================] - 1s 3ms/step - loss: 0.3816 - accuracy: 0.8461\n",
            "Epoch 25/100\n",
            "250/250 [==============================] - 1s 3ms/step - loss: 0.3781 - accuracy: 0.8478\n",
            "Epoch 26/100\n",
            "250/250 [==============================] - 1s 3ms/step - loss: 0.3744 - accuracy: 0.8490\n",
            "Epoch 27/100\n",
            "250/250 [==============================] - 1s 3ms/step - loss: 0.3719 - accuracy: 0.8497\n",
            "Epoch 28/100\n",
            "250/250 [==============================] - 1s 3ms/step - loss: 0.3694 - accuracy: 0.8500\n",
            "Epoch 29/100\n",
            "250/250 [==============================] - 1s 3ms/step - loss: 0.3665 - accuracy: 0.8520\n",
            "Epoch 30/100\n",
            "250/250 [==============================] - 1s 3ms/step - loss: 0.3624 - accuracy: 0.8540\n",
            "Epoch 31/100\n",
            "250/250 [==============================] - 1s 3ms/step - loss: 0.3602 - accuracy: 0.8539\n",
            "Epoch 32/100\n",
            "250/250 [==============================] - 1s 3ms/step - loss: 0.3581 - accuracy: 0.8549\n",
            "Epoch 33/100\n",
            "250/250 [==============================] - 1s 3ms/step - loss: 0.3558 - accuracy: 0.8571\n",
            "Epoch 34/100\n",
            "250/250 [==============================] - 1s 3ms/step - loss: 0.3540 - accuracy: 0.8581\n",
            "Epoch 35/100\n",
            "250/250 [==============================] - 1s 3ms/step - loss: 0.3527 - accuracy: 0.8572\n",
            "Epoch 36/100\n",
            "250/250 [==============================] - 1s 3ms/step - loss: 0.3514 - accuracy: 0.8587\n",
            "Epoch 37/100\n",
            "250/250 [==============================] - 1s 3ms/step - loss: 0.3498 - accuracy: 0.8574\n",
            "Epoch 38/100\n",
            "250/250 [==============================] - 1s 3ms/step - loss: 0.3489 - accuracy: 0.8608\n",
            "Epoch 39/100\n",
            "250/250 [==============================] - 1s 3ms/step - loss: 0.3476 - accuracy: 0.8594\n",
            "Epoch 40/100\n",
            "250/250 [==============================] - 1s 3ms/step - loss: 0.3469 - accuracy: 0.8605\n",
            "Epoch 41/100\n",
            "250/250 [==============================] - 1s 3ms/step - loss: 0.3457 - accuracy: 0.8604\n",
            "Epoch 42/100\n",
            "250/250 [==============================] - 1s 3ms/step - loss: 0.3458 - accuracy: 0.8610\n",
            "Epoch 43/100\n",
            "250/250 [==============================] - 1s 3ms/step - loss: 0.3448 - accuracy: 0.8614\n",
            "Epoch 44/100\n",
            "250/250 [==============================] - 1s 3ms/step - loss: 0.3448 - accuracy: 0.8589\n",
            "Epoch 45/100\n",
            "250/250 [==============================] - 1s 3ms/step - loss: 0.3449 - accuracy: 0.8601\n",
            "Epoch 46/100\n",
            "250/250 [==============================] - 1s 3ms/step - loss: 0.3426 - accuracy: 0.8624\n",
            "Epoch 47/100\n",
            "250/250 [==============================] - 1s 3ms/step - loss: 0.3437 - accuracy: 0.8610\n",
            "Epoch 48/100\n",
            "250/250 [==============================] - 1s 3ms/step - loss: 0.3421 - accuracy: 0.8609\n",
            "Epoch 49/100\n",
            "250/250 [==============================] - 1s 3ms/step - loss: 0.3426 - accuracy: 0.8596\n",
            "Epoch 50/100\n",
            "250/250 [==============================] - 1s 4ms/step - loss: 0.3421 - accuracy: 0.8618\n",
            "Epoch 51/100\n",
            "250/250 [==============================] - 1s 3ms/step - loss: 0.3419 - accuracy: 0.8611\n",
            "Epoch 52/100\n",
            "250/250 [==============================] - 1s 3ms/step - loss: 0.3413 - accuracy: 0.8602\n",
            "Epoch 53/100\n",
            "250/250 [==============================] - 1s 3ms/step - loss: 0.3411 - accuracy: 0.8626\n",
            "Epoch 54/100\n",
            "250/250 [==============================] - 1s 3ms/step - loss: 0.3399 - accuracy: 0.8629\n",
            "Epoch 55/100\n",
            "250/250 [==============================] - 1s 3ms/step - loss: 0.3397 - accuracy: 0.8641\n",
            "Epoch 56/100\n",
            "250/250 [==============================] - 1s 3ms/step - loss: 0.3395 - accuracy: 0.8648\n",
            "Epoch 57/100\n",
            "250/250 [==============================] - 1s 3ms/step - loss: 0.3396 - accuracy: 0.8622\n",
            "Epoch 58/100\n",
            "250/250 [==============================] - 1s 3ms/step - loss: 0.3388 - accuracy: 0.8624\n",
            "Epoch 59/100\n",
            "250/250 [==============================] - 1s 3ms/step - loss: 0.3386 - accuracy: 0.8636\n",
            "Epoch 60/100\n",
            "250/250 [==============================] - 1s 4ms/step - loss: 0.3386 - accuracy: 0.8619\n",
            "Epoch 61/100\n",
            "250/250 [==============================] - 1s 3ms/step - loss: 0.3380 - accuracy: 0.8633\n",
            "Epoch 62/100\n",
            "250/250 [==============================] - 1s 4ms/step - loss: 0.3381 - accuracy: 0.8616\n",
            "Epoch 63/100\n",
            "250/250 [==============================] - 1s 3ms/step - loss: 0.3382 - accuracy: 0.8625\n",
            "Epoch 64/100\n",
            "250/250 [==============================] - 1s 3ms/step - loss: 0.3376 - accuracy: 0.8634\n",
            "Epoch 65/100\n",
            "250/250 [==============================] - 1s 3ms/step - loss: 0.3367 - accuracy: 0.8635\n",
            "Epoch 66/100\n",
            "250/250 [==============================] - 1s 3ms/step - loss: 0.3377 - accuracy: 0.8620\n",
            "Epoch 67/100\n",
            "250/250 [==============================] - 1s 3ms/step - loss: 0.3371 - accuracy: 0.8636\n",
            "Epoch 68/100\n",
            "250/250 [==============================] - 1s 3ms/step - loss: 0.3360 - accuracy: 0.8651\n",
            "Epoch 69/100\n",
            "250/250 [==============================] - 1s 3ms/step - loss: 0.3368 - accuracy: 0.8641\n",
            "Epoch 70/100\n",
            "250/250 [==============================] - 1s 3ms/step - loss: 0.3357 - accuracy: 0.8659\n",
            "Epoch 71/100\n",
            "250/250 [==============================] - 1s 3ms/step - loss: 0.3360 - accuracy: 0.8641\n",
            "Epoch 72/100\n",
            "250/250 [==============================] - 1s 3ms/step - loss: 0.3353 - accuracy: 0.8658\n",
            "Epoch 73/100\n",
            "250/250 [==============================] - 1s 3ms/step - loss: 0.3360 - accuracy: 0.8651\n",
            "Epoch 74/100\n",
            "250/250 [==============================] - 1s 3ms/step - loss: 0.3353 - accuracy: 0.8655\n",
            "Epoch 75/100\n",
            "250/250 [==============================] - 1s 4ms/step - loss: 0.3350 - accuracy: 0.8658\n",
            "Epoch 76/100\n",
            "250/250 [==============================] - 1s 3ms/step - loss: 0.3354 - accuracy: 0.8650\n",
            "Epoch 77/100\n",
            "250/250 [==============================] - 1s 3ms/step - loss: 0.3350 - accuracy: 0.8664\n",
            "Epoch 78/100\n",
            "250/250 [==============================] - 1s 3ms/step - loss: 0.3344 - accuracy: 0.8652\n",
            "Epoch 79/100\n",
            "250/250 [==============================] - 1s 3ms/step - loss: 0.3346 - accuracy: 0.8655\n",
            "Epoch 80/100\n",
            "250/250 [==============================] - 1s 3ms/step - loss: 0.3342 - accuracy: 0.8676\n",
            "Epoch 81/100\n",
            "250/250 [==============================] - 1s 3ms/step - loss: 0.3346 - accuracy: 0.8670\n",
            "Epoch 82/100\n",
            "250/250 [==============================] - 1s 3ms/step - loss: 0.3350 - accuracy: 0.8665\n",
            "Epoch 83/100\n",
            "250/250 [==============================] - 1s 3ms/step - loss: 0.3341 - accuracy: 0.8666\n",
            "Epoch 84/100\n",
            "250/250 [==============================] - 1s 3ms/step - loss: 0.3346 - accuracy: 0.8668\n",
            "Epoch 85/100\n",
            "250/250 [==============================] - 1s 3ms/step - loss: 0.3345 - accuracy: 0.8659\n",
            "Epoch 86/100\n",
            "250/250 [==============================] - 1s 3ms/step - loss: 0.3343 - accuracy: 0.8664\n",
            "Epoch 87/100\n",
            "250/250 [==============================] - 1s 3ms/step - loss: 0.3335 - accuracy: 0.8660\n",
            "Epoch 88/100\n",
            "250/250 [==============================] - 1s 3ms/step - loss: 0.3334 - accuracy: 0.8654\n",
            "Epoch 89/100\n",
            "250/250 [==============================] - 1s 3ms/step - loss: 0.3335 - accuracy: 0.8675\n",
            "Epoch 90/100\n",
            "250/250 [==============================] - 1s 3ms/step - loss: 0.3339 - accuracy: 0.8665\n",
            "Epoch 91/100\n",
            "250/250 [==============================] - 1s 3ms/step - loss: 0.3333 - accuracy: 0.8669\n",
            "Epoch 92/100\n",
            "250/250 [==============================] - 1s 3ms/step - loss: 0.3331 - accuracy: 0.8666\n",
            "Epoch 93/100\n",
            "250/250 [==============================] - 1s 3ms/step - loss: 0.3336 - accuracy: 0.8661\n",
            "Epoch 94/100\n",
            "250/250 [==============================] - 1s 3ms/step - loss: 0.3336 - accuracy: 0.8659\n",
            "Epoch 95/100\n",
            "250/250 [==============================] - 1s 3ms/step - loss: 0.3337 - accuracy: 0.8662\n",
            "Epoch 96/100\n",
            "250/250 [==============================] - 1s 3ms/step - loss: 0.3335 - accuracy: 0.8660\n",
            "Epoch 97/100\n",
            "250/250 [==============================] - 1s 3ms/step - loss: 0.3337 - accuracy: 0.8670\n",
            "Epoch 98/100\n",
            "250/250 [==============================] - 1s 3ms/step - loss: 0.3335 - accuracy: 0.8659\n",
            "Epoch 99/100\n",
            "250/250 [==============================] - 1s 4ms/step - loss: 0.3334 - accuracy: 0.8650\n",
            "Epoch 100/100\n",
            "250/250 [==============================] - 1s 4ms/step - loss: 0.3328 - accuracy: 0.8674\n"
          ]
        },
        {
          "data": {
            "text/plain": [
              "<keras.callbacks.History at 0x1df8133bac0>"
            ]
          },
          "execution_count": 57,
          "metadata": {},
          "output_type": "execute_result"
        }
      ],
      "source": [
        "ann.fit(X_train, y_train, batch_size = 32, epochs = 100)"
      ]
    },
    {
      "cell_type": "markdown",
      "metadata": {
        "colab_type": "text",
        "id": "tJj5k2MxZga3"
      },
      "source": [
        "## Part 4 - Making the predictions and evaluating the model"
      ]
    },
    {
      "cell_type": "markdown",
      "metadata": {
        "colab_type": "text",
        "id": "84QFoqGYeXHL"
      },
      "source": [
        "### Predicting the result of a single observation"
      ]
    },
    {
      "cell_type": "markdown",
      "metadata": {
        "colab_type": "text",
        "id": "CGRo3eacgDdC"
      },
      "source": [
        "**Homework**\n",
        "\n",
        "Use our ANN model to predict if the customer with the following informations will leave the bank: \n",
        "\n",
        "Geography: France\n",
        "\n",
        "Credit Score: 600\n",
        "\n",
        "Gender: Male\n",
        "\n",
        "Age: 40 years old\n",
        "\n",
        "Tenure: 3 years\n",
        "\n",
        "Balance: \\$ 60000\n",
        "\n",
        "Number of Products: 2\n",
        "\n",
        "Does this customer have a credit card ? Yes\n",
        "\n",
        "Is this customer an Active Member: Yes\n",
        "\n",
        "Estimated Salary: \\$ 50000\n",
        "\n",
        "So, should we say goodbye to that customer ?"
      ]
    },
    {
      "cell_type": "markdown",
      "metadata": {
        "colab_type": "text",
        "id": "ZhU1LTgPg-kH"
      },
      "source": [
        "**Solution**"
      ]
    },
    {
      "cell_type": "code",
      "execution_count": 64,
      "metadata": {
        "colab": {
          "base_uri": "https://localhost:8080/",
          "height": 34
        },
        "colab_type": "code",
        "id": "2d8IoCCkeWGL",
        "outputId": "957f3970-e197-4c3b-a150-7f69dc567f5d"
      },
      "outputs": [
        {
          "name": "stdout",
          "output_type": "stream",
          "text": [
            "1/1 [==============================] - 0s 17ms/step\n",
            "[[False]]\n"
          ]
        }
      ],
      "source": [
        "print(ann.predict(sc.transform([[1, 0, 0, 600, 1, 40, 3, 60000, 2, 1, 1, 50000]])) > 0.5)"
      ]
    },
    {
      "cell_type": "markdown",
      "metadata": {
        "colab_type": "text",
        "id": "wGjx94g2n7OV"
      },
      "source": [
        "Therefore, our ANN model predicts that this customer stays in the bank!\n",
        "\n",
        "**Important note 1:** Notice that the values of the features were all input in a double pair of square brackets. That's because the \"predict\" method always expects a 2D array as the format of its inputs. And putting our values into a double pair of square brackets makes the input exactly a 2D array.\n",
        "\n",
        "**Important note 2:** Notice also that the \"France\" country was not input as a string in the last column but as \"1, 0, 0\" in the first three columns. That's because of course the predict method expects the one-hot-encoded values of the state, and as we see in the first row of the matrix of features X, \"France\" was encoded as \"1, 0, 0\". And be careful to include these values in the first three columns, because the dummy variables are always created in the first columns."
      ]
    },
    {
      "cell_type": "markdown",
      "metadata": {
        "colab_type": "text",
        "id": "u7yx47jPZt11"
      },
      "source": [
        "### Predicting the Test set results"
      ]
    },
    {
      "cell_type": "code",
      "execution_count": 59,
      "metadata": {
        "colab": {
          "base_uri": "https://localhost:8080/",
          "height": 137
        },
        "colab_type": "code",
        "id": "nIyEeQdRZwgs",
        "outputId": "82330ba8-9bdc-4fd1-d3cf-b6d78ee7c2a3"
      },
      "outputs": [
        {
          "name": "stdout",
          "output_type": "stream",
          "text": [
            "63/63 [==============================] - 0s 1ms/step\n",
            "[[0 0]\n",
            " [0 1]\n",
            " [0 0]\n",
            " ...\n",
            " [0 0]\n",
            " [0 0]\n",
            " [0 0]]\n"
          ]
        }
      ],
      "source": [
        "y_pred = ann.predict(X_test)\n",
        "y_pred = (y_pred > 0.5)\n",
        "print(np.concatenate((y_pred.reshape(len(y_pred),1), y_test.reshape(len(y_test),1)),1))"
      ]
    },
    {
      "cell_type": "markdown",
      "metadata": {
        "colab_type": "text",
        "id": "o0oyfLWoaEGw"
      },
      "source": [
        "### Making the Confusion Matrix"
      ]
    },
    {
      "cell_type": "code",
      "execution_count": 60,
      "metadata": {
        "colab": {
          "base_uri": "https://localhost:8080/",
          "height": 68
        },
        "colab_type": "code",
        "id": "ci6K_r6LaF6P",
        "outputId": "4d854e9e-22d5-432f-f6e5-a102fe3ae0bd"
      },
      "outputs": [
        {
          "name": "stdout",
          "output_type": "stream",
          "text": [
            "[[1511   84]\n",
            " [ 189  216]]\n"
          ]
        },
        {
          "data": {
            "text/plain": [
              "0.8635"
            ]
          },
          "execution_count": 60,
          "metadata": {},
          "output_type": "execute_result"
        }
      ],
      "source": [
        "from sklearn.metrics import confusion_matrix, accuracy_score\n",
        "cm = confusion_matrix(y_test, y_pred)\n",
        "print(cm)\n",
        "accuracy_score(y_test, y_pred)"
      ]
    }
  ],
  "metadata": {
    "colab": {
      "collapsed_sections": [],
      "name": "artificial_neural_network.ipynb",
      "provenance": [],
      "toc_visible": true
    },
    "kernelspec": {
      "display_name": "Python 3",
      "name": "python3"
    },
    "language_info": {
      "codemirror_mode": {
        "name": "ipython",
        "version": 3
      },
      "file_extension": ".py",
      "mimetype": "text/x-python",
      "name": "python",
      "nbconvert_exporter": "python",
      "pygments_lexer": "ipython3",
      "version": "3.10.10"
    }
  },
  "nbformat": 4,
  "nbformat_minor": 0
}
